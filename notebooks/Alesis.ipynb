{
 "cells": [
  {
   "cell_type": "code",
   "execution_count": null,
   "id": "db18b1c8",
   "metadata": {
    "scrolled": false
   },
   "outputs": [],
   "source": [
    "# !pip install mido\n",
    "# !pip install python-rtmidi\n",
    "# !pip install playsound\n",
    "# !pip install PyObjC\n",
    "# !pip install pygame"
   ]
  },
  {
   "cell_type": "code",
   "execution_count": null,
   "id": "c5e8bd62",
   "metadata": {},
   "outputs": [],
   "source": [
    "import mido\n",
    "from playsound import playsound \n",
    "from ipywidgets import Select\n",
    "from pygame import mixer"
   ]
  },
  {
   "cell_type": "code",
   "execution_count": null,
   "id": "9890270a",
   "metadata": {},
   "outputs": [],
   "source": [
    "loops_folder = '/Users/favreau/Music/Loops/'"
   ]
  },
  {
   "cell_type": "code",
   "execution_count": null,
   "id": "097ba7d6",
   "metadata": {},
   "outputs": [],
   "source": [
    "import glob\n",
    "import os\n",
    "\n",
    "kits = dict()\n",
    "\n",
    "folders = glob.glob(loops_folder + '*')\n",
    "# print(folders)\n",
    "for folder in folders:\n",
    "    files = glob.glob(folder + '/*')\n",
    "    base_name = os.path.basename(folder)\n",
    "    sounds = list()\n",
    "    for file in files:\n",
    "        sounds.append(os.path.basename(file))\n",
    "    kits[base_name] = sounds"
   ]
  },
  {
   "cell_type": "code",
   "execution_count": null,
   "id": "a784d0cc",
   "metadata": {},
   "outputs": [],
   "source": [
    "Select(options=kits)"
   ]
  },
  {
   "cell_type": "code",
   "execution_count": null,
   "id": "6a00481b",
   "metadata": {},
   "outputs": [],
   "source": [
    "mido.get_ioport_names()"
   ]
  },
  {
   "cell_type": "code",
   "execution_count": null,
   "id": "1e41fc8f",
   "metadata": {},
   "outputs": [],
   "source": [
    "alesis = mido.open_input('Alesis Strike MultiPad')"
   ]
  },
  {
   "cell_type": "code",
   "execution_count": null,
   "id": "cf85661d",
   "metadata": {},
   "outputs": [],
   "source": [
    "def play_sound(file_name):\n",
    "    mode = MODE_ONE_SHOT\n",
    "    if mode == MODE_ONE_SHOT:\n",
    "        playsound(filename, True)\n",
    "    else:\n",
    "        while True:\n",
    "            playsound(filename, True)"
   ]
  },
  {
   "cell_type": "code",
   "execution_count": null,
   "id": "5aff5d57",
   "metadata": {},
   "outputs": [],
   "source": [
    "import threading\n",
    "\n",
    "active_threads = dict()\n",
    "\n",
    "MODE_ONE_SHOT = 0\n",
    "MODE_LOOP = 1\n",
    "\n",
    "\n",
    "class SoundThread (threading.Thread):\n",
    "\n",
    "    def __init__(self, kit, sound_id, mode):      \n",
    "        threading.Thread.__init__(self)\n",
    "        self._kit = kit\n",
    "        self._sound_id = sound_id\n",
    "        self._mode = mode\n",
    "        \n",
    "    def __del__(self):\n",
    "        print('Delete')\n",
    "        \n",
    "    def play_sound(self):\n",
    "        if self._sound_id < len(kits[self._kit]):\n",
    "            if self._sound_id < len(kits[self._kit]):\n",
    "                file_name = loops_folder + '/' + self._kit + '/' + kits[self._kit][self._sound_id]\n",
    "                print('Play %s' % file_name)\n",
    "                playsound(file_name, block=False)\n",
    "            else:\n",
    "                print('Wrong sound')\n",
    "        else:\n",
    "            print('Wrong kit')\n",
    "        \n",
    "    def run(self):\n",
    "        if self._mode == MODE_ONE_SHOT:\n",
    "            ''' One shot '''\n",
    "            self.play_sound()\n",
    "        elif self._mode == MODE_LOOP:\n",
    "            ''' Loop '''\n",
    "            while True:\n",
    "                self.play_sound()\n",
    "\n",
    "# Alesis Pads\n",
    "# 44 45 46\n",
    "# 40 41 42\n",
    "# 36 37 38\n",
    "\n",
    "alesis_pads = dict()\n",
    "alesis_pads[44] = 0\n",
    "alesis_pads[45] = 1\n",
    "alesis_pads[46] = 2\n",
    "alesis_pads[40] = 3\n",
    "alesis_pads[41] = 4\n",
    "alesis_pads[42] = 5\n",
    "alesis_pads[36] = 6\n",
    "alesis_pads[37] = 7\n",
    "alesis_pads[38] = 8\n",
    "\n",
    "\n",
    "import random\n",
    "\n",
    "bpm = 112\n",
    "delay = 60.0 / bpm\n",
    "print(delay)\n",
    "i = 3\n",
    "while i> 0:\n",
    "    note = random.randint(0, 6) # alesis.receive().note\n",
    "    if active_threads.get(note):\n",
    "        print('Stop thread %d' % note)\n",
    "        active_threads[note].terminate()\n",
    "        active_threads[note] = None\n",
    "\n",
    "    print('Start thread %d' % note)\n",
    "    kit = 'Pacman'\n",
    "    sound_id = note # alesis_pads[note]\n",
    "    file_name = loops_folder + '/' + kit + '/' + kits[kit][sound_id]\n",
    "    t = multiprocessing.Process(target=playsound, args=(file_name,))  \n",
    "    t.start()\n",
    "    import time\n",
    "    time.sleep(delay)\n",
    "    active_threads[note] = t\n",
    "    i -= 1\n",
    "    \n",
    "for t in active_threads:\n",
    "    print('Stop thread %d' % t)\n",
    "    active_threads[t].terminate()"
   ]
  },
  {
   "cell_type": "code",
   "execution_count": null,
   "id": "2aaf9d74",
   "metadata": {},
   "outputs": [],
   "source": [
    "import time\n",
    "time.time_ns()"
   ]
  }
 ],
 "metadata": {
  "kernelspec": {
   "display_name": "Python 3 (ipykernel)",
   "language": "python",
   "name": "python3"
  },
  "language_info": {
   "codemirror_mode": {
    "name": "ipython",
    "version": 3
   },
   "file_extension": ".py",
   "mimetype": "text/x-python",
   "name": "python",
   "nbconvert_exporter": "python",
   "pygments_lexer": "ipython3",
   "version": "3.10.0"
  }
 },
 "nbformat": 4,
 "nbformat_minor": 5
}
